{
 "cells": [
  {
   "cell_type": "code",
   "execution_count": 3,
   "id": "157a7e2d",
   "metadata": {},
   "outputs": [
    {
     "name": "stdout",
     "output_type": "stream",
     "text": [
      "120\n"
     ]
    }
   ],
   "source": [
    "def factorial(n):\n",
    "   if n==0 or n==1:\n",
    "            resultado=1\n",
    "   elif n>1:\n",
    "            resultado=n*factorial(n-1)\n",
    "   return resultado\n",
    "\n",
    "#CALCULAMOS EL FACTORIAL DE 5.\n",
    "fact5=factorial(5)\n",
    "\n",
    "#VISUALIZAMOS RESULTADO.\n",
    "print(fact5)\n"
   ]
  },
  {
   "cell_type": "code",
   "execution_count": 11,
   "id": "52a841d0",
   "metadata": {},
   "outputs": [
    {
     "name": "stdout",
     "output_type": "stream",
     "text": [
      "55\n"
     ]
    }
   ],
   "source": [
    "def sumatoria(comienzo,final):\n",
    "    \n",
    "    if ((final<comienzo) or (comienzo==final)):\n",
    "        resultado=-1\n",
    "        print(\"Error debe ingresar un valor final mayor que el de comienzo\")\n",
    "    else:\n",
    "        resultado=0\n",
    "        for x in range(comienzo,final+1):\n",
    "            resultado += x\n",
    "    return resultado\n",
    "\n",
    "\n",
    "#CALCULAMOS LA SUMATORIA DE 1 a 10\n",
    "res=sumatoria(1,10)\n",
    "\n",
    "#VISUALIZAMOS RESULTADO.\n",
    "print(res)"
   ]
  },
  {
   "cell_type": "code",
   "execution_count": null,
   "id": "41df203e",
   "metadata": {},
   "outputs": [],
   "source": []
  }
 ],
 "metadata": {
  "kernelspec": {
   "display_name": "Python 3",
   "language": "python",
   "name": "python3"
  },
  "language_info": {
   "codemirror_mode": {
    "name": "ipython",
    "version": 3
   },
   "file_extension": ".py",
   "mimetype": "text/x-python",
   "name": "python",
   "nbconvert_exporter": "python",
   "pygments_lexer": "ipython3",
   "version": "3.8.8"
  }
 },
 "nbformat": 4,
 "nbformat_minor": 5
}
