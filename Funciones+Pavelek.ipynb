{
 "cells": [
  {
   "cell_type": "markdown",
   "id": "c034b48a",
   "metadata": {},
   "source": [
    "## Desafio1\n",
    "\n",
    "Alumno: Israel Pavelek\n",
    "\n",
    "Consigna:\n",
    "* 1_Escribir una función para calcular el factoria de un nùmero cualquiera.\n",
    "* 2_Escribir una función para calcular la suma de una serie comenzando por un nùmero cualquiera y terminando en otro nùmero que debe ser mayor al primero."
   ]
  },
  {
   "cell_type": "markdown",
   "id": "287ae9f2",
   "metadata": {},
   "source": [
    "## Ejercicio 1"
   ]
  },
  {
   "cell_type": "code",
   "execution_count": 17,
   "id": "410cfa66",
   "metadata": {},
   "outputs": [
    {
     "name": "stdout",
     "output_type": "stream",
     "text": [
      "6\n"
     ]
    }
   ],
   "source": [
    "def factorial(numero):\n",
    "   if numero==0 or numero==1:\n",
    "            resultado=1\n",
    "   elif numero>1:\n",
    "            resultado=numero*factorial(numero-1)\n",
    "   return resultado\n",
    "\n",
    "#CALCULAMOS EL FACTORIAL DE 3\n",
    "fact3=factorial(3)\n",
    "\n",
    "#VISUALIZAMOS RESULTADO.\n",
    "print(fact3)\n"
   ]
  },
  {
   "cell_type": "markdown",
   "id": "559a9ea2",
   "metadata": {},
   "source": [
    "## Ejercicio 2"
   ]
  },
  {
   "cell_type": "code",
   "execution_count": 18,
   "id": "c7a49edd",
   "metadata": {},
   "outputs": [
    {
     "name": "stdout",
     "output_type": "stream",
     "text": [
      "55\n"
     ]
    }
   ],
   "source": [
    "def sumatoria(comienzo,final):\n",
    "    \n",
    "    if ((final<comienzo) or (comienzo==final)):\n",
    "        resultado=-1\n",
    "        print(\"Error debe ingresar un valor final mayor que el de comienzo\")\n",
    "    else:\n",
    "        resultado=0\n",
    "        for x in range(comienzo,final+1):\n",
    "            resultado += x\n",
    "    return resultado\n",
    "\n",
    "\n",
    "#CALCULAMOS LA SUMATORIA DE 1 a 10\n",
    "res=sumatoria(1,10)\n",
    "\n",
    "#VISUALIZAMOS RESULTADO.\n",
    "print(res)"
   ]
  },
  {
   "cell_type": "code",
   "execution_count": null,
   "id": "2474a0e0",
   "metadata": {},
   "outputs": [],
   "source": []
  }
 ],
 "metadata": {
  "kernelspec": {
   "display_name": "Python 3",
   "language": "python",
   "name": "python3"
  },
  "language_info": {
   "codemirror_mode": {
    "name": "ipython",
    "version": 3
   },
   "file_extension": ".py",
   "mimetype": "text/x-python",
   "name": "python",
   "nbconvert_exporter": "python",
   "pygments_lexer": "ipython3",
   "version": "3.8.8"
  }
 },
 "nbformat": 4,
 "nbformat_minor": 5
}
