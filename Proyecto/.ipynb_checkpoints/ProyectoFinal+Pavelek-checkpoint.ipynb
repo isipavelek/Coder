{
 "cells": [
  {
   "cell_type": "raw",
   "metadata": {},
   "source": [
    "## Entrega final proyecto integrador\n",
    "### Integrantes:\n",
    "\n",
    "* Pavelek, Israel \n",
    "* Koselevich Arnesano, Ivan\n",
    "* Hansen, Ivan\n",
    "\n",
    "\n",
    "#### Objetivos Generales:\n",
    "Entender el problema de negocio e identificar los elementos a ser considerados para el planteamiento de un Modelo de Data Science.\n",
    "Describir los datos de negocio y las relaciones entre datos mediante el Análisis Exploratorio de Datos.\n",
    "Construir una presentación ejecutiva para la alta gerencia mostrando los resultados obtenidos.\n",
    "\n",
    "\n",
    "#### Objetivos Específicos:\n",
    "Desarrollar las instancias de Data Acquisition y Data Wrangling en tu trabajo final.\n",
    "Lograr una articulación en equipo y una división de tareas adecuadas a los objetivos.\n",
    "Realizar Filtrado\n",
    "Describir qué significa cada variable, cómo se comporta.\n",
    "Especificar las distribuciones y relaciones (géneros, sexo, edad, IVA, tipo de empresa).\n",
    "\n"
   ]
  },
  {
   "cell_type": "code",
   "execution_count": null,
   "metadata": {},
   "outputs": [],
   "source": [
    "import pandas as pd\n",
    "import seaborn as sns\n",
    "import matplotlib.pyplot as plt\n",
    "import numpy as np\n",
    "from IPython.display import display_html\n",
    "import plotly.express as px\n"
   ]
  },
  {
   "cell_type": "code",
   "execution_count": null,
   "metadata": {},
   "outputs": [],
   "source": [
    "df = pd.read_csv('BankChurners.csv')"
   ]
  },
  {
   "cell_type": "code",
   "execution_count": null,
   "metadata": {},
   "outputs": [],
   "source": [
    "display_html(df.head())"
   ]
  },
  {
   "cell_type": "markdown",
   "metadata": {},
   "source": [
    "Veamos el tipo de objeto para ver cuales son variables categóricas"
   ]
  },
  {
   "cell_type": "code",
   "execution_count": null,
   "metadata": {},
   "outputs": [],
   "source": [
    "df.shape"
   ]
  },
  {
   "cell_type": "code",
   "execution_count": null,
   "metadata": {},
   "outputs": [],
   "source": [
    "df.dtypes"
   ]
  },
  {
   "cell_type": "markdown",
   "metadata": {},
   "source": [
    "Se chequea si existen valores nulos."
   ]
  },
  {
   "cell_type": "code",
   "execution_count": null,
   "metadata": {},
   "outputs": [],
   "source": [
    "df.isnull().sum()"
   ]
  },
  {
   "cell_type": "markdown",
   "metadata": {},
   "source": [
    "Se chequea si el identificador de cliente (CLIENTNUM) es único"
   ]
  },
  {
   "cell_type": "code",
   "execution_count": null,
   "metadata": {},
   "outputs": [],
   "source": [
    "df.CLIENTNUM.nunique()/df.shape[0]"
   ]
  },
  {
   "cell_type": "markdown",
   "metadata": {},
   "source": [
    "Podemos eliminar CLIENTNUM porque no hay identificadores repetidos"
   ]
  },
  {
   "cell_type": "code",
   "execution_count": null,
   "metadata": {},
   "outputs": [],
   "source": [
    "df.drop(columns='CLIENTNUM', inplace=True)"
   ]
  },
  {
   "cell_type": "markdown",
   "metadata": {},
   "source": [
    "# Gráficos \n",
    "## Categoría de ingresos según el género"
   ]
  },
  {
   "cell_type": "code",
   "execution_count": null,
   "metadata": {},
   "outputs": [],
   "source": [
    "sns.displot(x=df[\"Income_Category\"], \n",
    "            hue=df[\"Gender\"],         \n",
    "            height=8,\n",
    "            aspect=2)"
   ]
  },
  {
   "cell_type": "markdown",
   "metadata": {},
   "source": [
    "## Cantidad de personas que cancelan la tarjeta según sus ingresos"
   ]
  },
  {
   "cell_type": "code",
   "execution_count": null,
   "metadata": {},
   "outputs": [],
   "source": [
    "df['Attrition_Flag'].value_counts(normalize=True)"
   ]
  },
  {
   "cell_type": "markdown",
   "metadata": {},
   "source": [
    "Del total que dejan la tarjeta, veamos como se distribuyen en función de su nivel de eduación"
   ]
  },
  {
   "cell_type": "code",
   "execution_count": null,
   "metadata": {},
   "outputs": [],
   "source": [
    "df[df['Attrition_Flag'] == 'Attrited Customer']['Education_Level'].value_counts(normalize=True)"
   ]
  },
  {
   "cell_type": "code",
   "execution_count": null,
   "metadata": {},
   "outputs": [],
   "source": [
    "fig, axes = plt.subplots(nrows=1, ncols=2, figsize=(25,6))\n",
    "sns.countplot(x=df[df['Attrition_Flag'] == 'Attrited Customer']['Marital_Status'], ax=axes[0])\n",
    "sns.countplot(x=df[df['Attrition_Flag'] == 'Attrited Customer']['Education_Level'], ax=axes[1])\n",
    "\n",
    "fig, axes = plt.subplots(nrows=1, ncols=2, figsize=(25,6))\n",
    "sns.countplot(x=df[df['Attrition_Flag'] == 'Attrited Customer']['Income_Category'], ax=axes[0])\n",
    "sns.histplot(x=df[df['Attrition_Flag'] == 'Attrited Customer']['Customer_Age'], ax=axes[1])"
   ]
  },
  {
   "cell_type": "markdown",
   "metadata": {},
   "source": [
    "## Total_Revolving_Bal vs Credit_Limit \n",
    "Saldo renovable es la parte del gasto de la tarjeta de crédito que no se paga al final de un ciclo de facturación vs límite de facturación por tipo de cliente y por género"
   ]
  },
  {
   "cell_type": "code",
   "execution_count": null,
   "metadata": {},
   "outputs": [],
   "source": [
    "fig, axes = plt.subplots(nrows=1, ncols=2, figsize=(18,6))\n",
    "sns.scatterplot(data=df, x='Total_Revolving_Bal', y='Credit_Limit', hue='Attrition_Flag', ax=axes[0])\n",
    "sns.scatterplot(data=df, x='Total_Revolving_Bal', y='Credit_Limit', hue='Gender', ax=axes[1])"
   ]
  },
  {
   "cell_type": "markdown",
   "metadata": {},
   "source": [
    "## Distribución de la edad de los clientes en función de nivel de eduación, ingresos, categoría de tarjeta,"
   ]
  },
  {
   "cell_type": "code",
   "execution_count": null,
   "metadata": {},
   "outputs": [],
   "source": [
    "fig, axes = plt.subplots(nrows=3, ncols=1, figsize=(15,8))\n",
    "sns.set_style(\"whitegrid\")\n",
    "sns.violinplot(x=df['Education_Level'], y=df['Customer_Age'], data=df, palette=\"Set3\", ax=axes[0])\n",
    "sns.violinplot(x=df['Income_Category'], y=df['Customer_Age'],data=df,palette=\"Set3\", ax=axes[1])\n",
    "sns.violinplot(x=df['Card_Category'], y=df['Customer_Age'], data=df,palette=\"Set3\", ax=axes[2])\n",
    "fig.tight_layout()"
   ]
  },
  {
   "cell_type": "markdown",
   "metadata": {},
   "source": [
    "## Distribución del límite de la tarjeta en función de categoría de trajeta, educación, edad, estado marital"
   ]
  },
  {
   "cell_type": "code",
   "execution_count": null,
   "metadata": {},
   "outputs": [],
   "source": [
    "fig, axes = plt.subplots(nrows=4, ncols=1, figsize=(15,12))\n",
    "sns.violinplot(x=\"Card_Category\",y=\"Credit_Limit\",data=df,palette=\"Set3\",ax=axes[0])\n",
    "sns.violinplot(x=\"Education_Level\",y=\"Credit_Limit\",data=df,palette=\"Set3\",ax=axes[1])\n",
    "sns.violinplot(x=\"Customer_Age\",y=\"Credit_Limit\",data=df,palette=\"Set3\",ax=axes[2])\n",
    "sns.violinplot(x=\"Gender\",y=\"Credit_Limit\",data=df,palette=\"Set3\",ax=axes[3])\n",
    "fig.tight_layout()"
   ]
  },
  {
   "cell_type": "markdown",
   "metadata": {},
   "source": [
    "## Cantidad total de transacciones por tipo de cliente y por género"
   ]
  },
  {
   "cell_type": "code",
   "execution_count": null,
   "metadata": {},
   "outputs": [],
   "source": [
    "fig, axes = plt.subplots(nrows=1, ncols=2, figsize=(18,6))\n",
    "sns.histplot(data=df, x='Total_Trans_Ct', hue='Attrition_Flag', ax=axes[0])\n",
    "sns.histplot(data=df, x='Total_Trans_Ct', hue='Gender', ax=axes[1])"
   ]
  },
  {
   "cell_type": "markdown",
   "metadata": {},
   "source": [
    "## Cambios en los montos de las transacciones y Cambios en la cantidad de transacciones por tipo de cliente y género"
   ]
  },
  {
   "cell_type": "code",
   "execution_count": null,
   "metadata": {},
   "outputs": [],
   "source": [
    "fig, axes = plt.subplots(nrows=1, ncols=2, figsize=(18,6))\n",
    "sns.histplot(data=df, x='Total_Ct_Chng_Q4_Q1', hue='Attrition_Flag', ax=axes[0])\n",
    "sns.histplot(data=df, x='Total_Amt_Chng_Q4_Q1', hue='Gender', ax=axes[1])"
   ]
  },
  {
   "cell_type": "markdown",
   "metadata": {},
   "source": [
    "# Variables categóricas\n",
    "Se analizan las variables categóricas para ver su composición."
   ]
  },
  {
   "cell_type": "code",
   "execution_count": null,
   "metadata": {},
   "outputs": [],
   "source": [
    "for col in df.select_dtypes(['object']).columns:\n",
    "    print(col)\n",
    "    print('Valores únicos: ', df[col].nunique())\n",
    "    print(df[col].value_counts(normalize=True))\n",
    "    print('\\r\\n')"
   ]
  },
  {
   "cell_type": "markdown",
   "metadata": {},
   "source": [
    "*Marital_Status*, *Income_Category* y *Educational Level* tiene valores denominados \"Unknown\". <br>\n",
    "Se analiza si existen registros en los cuales los \"unknown\" coincidan en las tres columnas."
   ]
  },
  {
   "cell_type": "code",
   "execution_count": null,
   "metadata": {},
   "outputs": [],
   "source": [
    "df_unknowns = df[(df['Income_Category'] == 'Unknown') & \n",
    "                 (df['Marital_Status'] == 'Unknown') & \n",
    "                 (df['Education_Level'] == 'Unknown')]\n",
    "\n",
    "df_unknowns.describe()"
   ]
  },
  {
   "cell_type": "markdown",
   "metadata": {},
   "source": [
    "Los regristros cuyas columnas *Income_Category*, *Marital_Status* y *Education_Level* coinciden con la clase *\"unknown\"* son  7 y todos ellos corresponden al género femenino con tarjeta tipo *\"Blue\"*."
   ]
  },
  {
   "cell_type": "code",
   "execution_count": null,
   "metadata": {},
   "outputs": [],
   "source": [
    "print(df.shape[0])\n",
    "df.drop(index=df_unknowns.index, inplace=True)\n",
    "print(df.shape[0])"
   ]
  },
  {
   "cell_type": "markdown",
   "metadata": {},
   "source": [
    "# Imputación de \"Unknown\" variables categóricas"
   ]
  },
  {
   "cell_type": "code",
   "execution_count": null,
   "metadata": {},
   "outputs": [],
   "source": [
    "df.Income_Category = df.Income_Category.replace('Unknown',np.nan)\n",
    "df.Education_Level = df.Education_Level.replace('Unknown',np.nan)\n",
    "df.Marital_Status = df.Marital_Status.replace('Unknown',np.nan)"
   ]
  },
  {
   "cell_type": "markdown",
   "metadata": {},
   "source": [
    "Porcentaje de nulos por columna categórica"
   ]
  },
  {
   "cell_type": "code",
   "execution_count": null,
   "metadata": {},
   "outputs": [],
   "source": [
    "print_str = 'Income Category nulls: {:.2f}% \\nEducation Level nulls: {:.2f}% \\nMarital Status nulls: {:.2f}%'\n",
    "print(print_str.format(df.Income_Category.isnull().sum()/df.shape[0]*100,\n",
    "                       df.Education_Level.isnull().sum()/df.shape[0]*100,\n",
    "                       df.Marital_Status.isnull().sum()/df.shape[0]*100))"
   ]
  },
  {
   "cell_type": "code",
   "execution_count": null,
   "metadata": {},
   "outputs": [],
   "source": [
    "imputer_method = 'no_modify_distribution'\n",
    "\n",
    "if imputer_method == 'modify_distribution':\n",
    "    ## Esta imputación modifica la distribución de la variable.\n",
    "    from sklearn.impute import SimpleImputer\n",
    "    imputer = SimpleImputer(missing_values=np.nan, strategy='most_frequent')\n",
    "    df['Income_Category'] = imputer.fit_transform(df[['Income_Category']])\n",
    "    df['Education_Level'] = imputer.fit_transform(df[['Education_Level']])\n",
    "    df['Marital_Status'] = imputer.fit_transform(df[['Marital_Status']])\n",
    "\n",
    "elif imputer_method == 'no_modify_distribution':\n",
    "    # Esta imputación no modifica la distribución de la variable.\n",
    "    df['Income_Category'] = df.Income_Category.apply(lambda x: \n",
    "                                                        np.random.choice(df[df.Income_Category.notnull()]['Income_Category']) if pd.isnull(x) \n",
    "                                                        else x)\n",
    "\n",
    "    df['Education_Level'] = df.Education_Level.apply(lambda x: \n",
    "                                                        np.random.choice(df[df.Education_Level.notnull()]['Education_Level']) if pd.isnull(x) \n",
    "                                                        else x)\n",
    "\n",
    "    df['Marital_Status'] = df.Marital_Status.apply(lambda x: \n",
    "                                                      np.random.choice(df[df.Marital_Status.notnull()]['Marital_Status']) if pd.isnull(x) \n",
    "                                                      else x)"
   ]
  },
  {
   "cell_type": "markdown",
   "metadata": {},
   "source": [
    "Una vez imputadas las variables categóricas, procedemos a convertirlas a numéricas (antes escalo las columnas num y float)."
   ]
  },
  {
   "cell_type": "markdown",
   "metadata": {},
   "source": [
    "# Escalado de columnas numéricas\n",
    "Se escalan las columnas numéricas (floatantes y enteras)."
   ]
  },
  {
   "cell_type": "code",
   "execution_count": null,
   "metadata": {},
   "outputs": [],
   "source": [
    "from sklearn.preprocessing import StandardScaler\n",
    "scaler = StandardScaler()\n",
    "\n",
    "for col in df.select_dtypes(['float64']).columns:\n",
    "    df[col] = scaler.fit_transform(df[[col]])  \n",
    "for col in df.select_dtypes(['int64']).columns: #agrego esto \n",
    "    df[col] = scaler.fit_transform(df[[col]])  "
   ]
  },
  {
   "cell_type": "code",
   "execution_count": null,
   "metadata": {
    "scrolled": true
   },
   "outputs": [],
   "source": [
    "df.head()"
   ]
  },
  {
   "cell_type": "markdown",
   "metadata": {},
   "source": [
    "# Conversión de variables categóricas\n",
    "Se definen mappers customizados para controlar la manera en la cual se realizan las conversiones.\n",
    "## Columna *Attrition_Flag*\n",
    "Mapeo binario:\n",
    "- Existing customer: 0\n",
    "- Attrited customer: 1"
   ]
  },
  {
   "cell_type": "code",
   "execution_count": null,
   "metadata": {},
   "outputs": [],
   "source": [
    "attrition_mapper = {'Existing Customer': 0, 'Attrited Customer': 1}\n",
    "df['Attrition_Flag'] = df['Attrition_Flag'].map(attrition_mapper)"
   ]
  },
  {
   "cell_type": "markdown",
   "metadata": {},
   "source": [
    "## Columna *Gender*\n",
    "Separamos en dos columnas con el Flag en 1 para determinar la pertenencia:\n"
   ]
  },
  {
   "cell_type": "code",
   "execution_count": null,
   "metadata": {},
   "outputs": [],
   "source": [
    "df =pd.get_dummies(df, columns = ['Gender'])"
   ]
  },
  {
   "cell_type": "markdown",
   "metadata": {},
   "source": [
    "## *Education_Level*\n",
    "Utilizaremos un mapping personalizado para el nivel de educación para tener control de cómo mapear las variables categóricas."
   ]
  },
  {
   "cell_type": "code",
   "execution_count": null,
   "metadata": {},
   "outputs": [],
   "source": [
    "education_mapper = {'Uneducated': 0, 'High School':1, 'College':2, 'Graduate': 3,'Post-Graduate': 4, 'Doctorate': 5}\n",
    "df.Education_Level = df.Education_Level.map(education_mapper)"
   ]
  },
  {
   "cell_type": "markdown",
   "metadata": {},
   "source": [
    "## *Marital_Status*\n",
    "Mapeo personalizado."
   ]
  },
  {
   "cell_type": "code",
   "execution_count": null,
   "metadata": {},
   "outputs": [],
   "source": [
    "df =pd.get_dummies(df, columns = ['Marital_Status'])"
   ]
  },
  {
   "cell_type": "markdown",
   "metadata": {},
   "source": [
    "## *Income_Category*\n",
    "Mapeo personalizado."
   ]
  },
  {
   "cell_type": "code",
   "execution_count": null,
   "metadata": {},
   "outputs": [],
   "source": [
    "income_mapper = {'Less than $40K': 0,'$40K - $60K':1,'$60K - $80K':2,'$80K - $120K':3, '$120K +':4}\n",
    "df.Income_Category = df.Income_Category.map(income_mapper)"
   ]
  },
  {
   "cell_type": "markdown",
   "metadata": {},
   "source": [
    "## *Card_Category*\n",
    "Mapeo personalizado."
   ]
  },
  {
   "cell_type": "code",
   "execution_count": null,
   "metadata": {},
   "outputs": [],
   "source": [
    "card_mapper = {'Blue': 0,'Silver':1,'Gold':2,'Platinum':3}\n",
    "df.Card_Category = df.Card_Category.map(card_mapper)"
   ]
  },
  {
   "cell_type": "markdown",
   "metadata": {},
   "source": [
    "# Outliers\n",
    "Para las columnas numéricas, chequeamos outliers y los eliminamos con el criterio del rango intercuartílico."
   ]
  },
  {
   "cell_type": "code",
   "execution_count": null,
   "metadata": {},
   "outputs": [],
   "source": [
    "def treat_outiers(dataframe, col, **kwargs):\n",
    "    \"\"\"\n",
    "    Treat outliers considering interquartile range.\n",
    "    \"\"\"     \n",
    "    # Get keyword arguments\n",
    "    column_action = kwargs.pop('column_action', 'remove')\n",
    "\n",
    "    q1 = dataframe[col].quantile(0.25)\n",
    "    q3 = dataframe[col].quantile(0.75)\n",
    "    iqr = q3 - q1\n",
    "    outlier_threshold = q3 + (iqr *1.5)\n",
    "    if column_action == 'remove':\n",
    "        dataframe = dataframe[dataframe[col] < outlier_threshold]\n",
    "    \n",
    "    return dataframe"
   ]
  },
  {
   "cell_type": "code",
   "execution_count": null,
   "metadata": {},
   "outputs": [],
   "source": [
    "fig, axes = plt.subplots(nrows=2, ncols=1, figsize=(8,8))\n",
    "sns.set_style(\"whitegrid\")\n",
    "cols = ['Credit_Limit', 'Avg_Open_To_Buy']\n",
    "\n",
    "print('DataFrame size before outlier treatment: {0}'.format(df.shape))\n",
    "\n",
    "ir = 0\n",
    "for col in cols:\n",
    "    ax = sns.violinplot(x=col, data=df, ax=axes[ir], label= col + ' --> outliers')\n",
    "    plt.setp(ax.collections, alpha=.3)\n",
    "    df = treat_outiers(df, col)        \n",
    "    sns.violinplot(x=col, data=df, ax=axes[ir], label=col + ' --> without outliers')\n",
    "    ir += 1\n",
    "        \n",
    "fig.tight_layout()\n",
    "\n",
    "print('DataFrame size after outlier treatment: {0}'.format(df.shape))"
   ]
  },
  {
   "cell_type": "markdown",
   "metadata": {},
   "source": [
    "# Matriz de correlación\n",
    "Sólo representamos la parte inferior de la matriz de correlación ya que esta es simétrica."
   ]
  },
  {
   "cell_type": "code",
   "execution_count": null,
   "metadata": {},
   "outputs": [],
   "source": [
    "plt.figure(figsize=(20,6))\n",
    "corr = df.corr()\n",
    "# Getting the Upper Triangle of the co-relation matrix\n",
    "matrix = np.triu(corr)\n",
    "sns.heatmap(np.abs(corr), annot=True, mask=matrix)"
   ]
  },
  {
   "cell_type": "markdown",
   "metadata": {},
   "source": [
    "Se elminan aquellas columnas que no presentan correlación significativa."
   ]
  },
  {
   "cell_type": "code",
   "execution_count": null,
   "metadata": {},
   "outputs": [],
   "source": [
    "df.drop(columns=['Dependent_count', \n",
    "                 'Education_Level', \n",
    "                 'Marital_Status_Divorced', \n",
    "                 'Marital_Status_Married',\n",
    "                 'Marital_Status_Single',\n",
    "                 'Months_on_book', \n",
    "                 'Months_Inactive_12_mon',\n",
    "                 'Customer_Age'], inplace=True)"
   ]
  },
  {
   "cell_type": "code",
   "execution_count": null,
   "metadata": {},
   "outputs": [],
   "source": [
    "plt.figure(figsize=(20,6))\n",
    "corr = df.corr()\n",
    "# Getting the Upper Triangle of the co-relation matrix\n",
    "matrix = np.triu(corr)\n",
    "sns.heatmap(np.abs(corr), annot=True, mask=matrix)"
   ]
  },
  {
   "cell_type": "code",
   "execution_count": null,
   "metadata": {},
   "outputs": [],
   "source": [
    "df.shape"
   ]
  },
  {
   "cell_type": "code",
   "execution_count": null,
   "metadata": {},
   "outputs": [],
   "source": [
    "df.head()"
   ]
  },
  {
   "cell_type": "markdown",
   "metadata": {},
   "source": [
    "# Pairplot\n",
    "No tiene mucho sentido hacer este gráfico para todas las columnas. <br>\n",
    "Trato de hacerlo para aquellas que guardan correlación"
   ]
  },
  {
   "cell_type": "code",
   "execution_count": null,
   "metadata": {},
   "outputs": [],
   "source": [
    "x = df.loc[:,['Attrition_Flag','Credit_Limit', 'Avg_Open_To_Buy','Total_Trans_Amt','Total_Trans_Ct']]\n",
    "sns.pairplot(data=x, hue=\"Attrition_Flag\", markers=[\"o\", \"s\"])"
   ]
  },
  {
   "cell_type": "markdown",
   "metadata": {},
   "source": [
    "## Separación Entrenamiento / Test"
   ]
  },
  {
   "cell_type": "code",
   "execution_count": null,
   "metadata": {},
   "outputs": [],
   "source": [
    "# Se elimina la primera de las columnas (que es nuestro target)\n",
    "X = df.iloc[:,1:]\n",
    "y = df.Attrition_Flag"
   ]
  },
  {
   "cell_type": "code",
   "execution_count": null,
   "metadata": {},
   "outputs": [],
   "source": [
    "from sklearn.model_selection import train_test_split\n",
    "X_train, X_test, y_train, y_test = train_test_split(X, y, test_size=0.2, random_state=33)"
   ]
  },
  {
   "cell_type": "markdown",
   "metadata": {},
   "source": [
    "## Desbalance de clases\n",
    "Sólo se aplica sobre el set de entrenamiento.<br>\n",
    "Un 70%-30%, 75%-25% puede ser un desbalance típico"
   ]
  },
  {
   "attachments": {
    "image.png": {
     "image/png": "[encoded data removed]"
    }
   },
   "cell_type": "markdown",
   "metadata": {},
   "source": [
    "![image.png](attachment:image.png)"
   ]
  },
  {
   "cell_type": "code",
   "execution_count": null,
   "metadata": {},
   "outputs": [],
   "source": [
    "print(y_train.value_counts(normalize=True))\n",
    "g = sns.countplot(x=y_train)\n",
    "g.set_xticklabels(['Existing Customer','Attrited Customer'])\n",
    "plt.show()"
   ]
  },
  {
   "cell_type": "markdown",
   "metadata": {},
   "source": [
    "### Undersampling\n",
    "Puede producir una pérdida de información valiosa."
   ]
  },
  {
   "cell_type": "code",
   "execution_count": null,
   "metadata": {},
   "outputs": [],
   "source": [
    "from imblearn.under_sampling import RandomUnderSampler\n",
    "undersampling = RandomUnderSampler(sampling_strategy=1)\n",
    "X_train_under, y_train_under = undersampling.fit_resample(X_train, y_train)"
   ]
  },
  {
   "cell_type": "code",
   "execution_count": null,
   "metadata": {},
   "outputs": [],
   "source": [
    "print(y_train_under.value_counts(normalize=True))\n",
    "g = sns.countplot(x=y_train_under)\n",
    "g.set_xticklabels(['Existing Customer','Attrited Customer'])\n",
    "plt.show()"
   ]
  },
  {
   "cell_type": "markdown",
   "metadata": {},
   "source": [
    "### Oversampling\n",
    "Aumeta la cantidad de valores de clase minoritaria. Puede producir overfitting."
   ]
  },
  {
   "cell_type": "code",
   "execution_count": null,
   "metadata": {},
   "outputs": [],
   "source": [
    "from imblearn.over_sampling import RandomOverSampler\n",
    "oversampling = RandomOverSampler(sampling_strategy=1)\n",
    "X_train_over, y_train_over = oversampling.fit_resample(X_train, y_train)"
   ]
  },
  {
   "cell_type": "code",
   "execution_count": null,
   "metadata": {},
   "outputs": [],
   "source": [
    "print(y_train_over.value_counts(normalize=True))\n",
    "g = sns.countplot(x=y_train_over)\n",
    "g.set_xticklabels(['Existing Customer','Attrited Customer'])\n",
    "plt.show()"
   ]
  },
  {
   "cell_type": "markdown",
   "metadata": {},
   "source": [
    "### SMOTE\n",
    "Técnica de oversampling que crea nuevos puntos sintéticos de la clase minoritaria. <br>\n",
    "Sólo funciona para datos numérticos ya que dentro del computo hace un cálculo de distancia."
   ]
  },
  {
   "cell_type": "code",
   "execution_count": null,
   "metadata": {},
   "outputs": [],
   "source": [
    "from imblearn.over_sampling import SMOTE\n",
    "over_smote = SMOTE(sampling_strategy=1)\n",
    "X_train_smote, y_train_smote = over_smote.fit_resample(X_train, y_train)"
   ]
  },
  {
   "cell_type": "code",
   "execution_count": null,
   "metadata": {},
   "outputs": [],
   "source": [
    "print(y_train_smote.value_counts(normalize=True))\n",
    "g = sns.countplot(x=y_train_smote)\n",
    "g.set_xticklabels(['Existing Customer','Attrited Customer'])\n",
    "plt.show()"
   ]
  },
  {
   "cell_type": "markdown",
   "metadata": {},
   "source": [
    "Creo una lista con el datasete de entrenamiento desbalanceado, submuestreado, sobremuestreado y sobremuestreado SMOTE"
   ]
  },
  {
   "cell_type": "code",
   "execution_count": null,
   "metadata": {},
   "outputs": [],
   "source": [
    "labels = ['Imbalance dataset', 'Undersampled dataset', 'Oversampled dataset', 'Oversampled dataset (SMOTE)']\n",
    "X = [X_train, X_train_under, X_train_over, X_train_smote]\n",
    "y = [y_train, y_train_under, y_train_over, y_train_smote]"
   ]
  },
  {
   "cell_type": "code",
   "execution_count": null,
   "metadata": {},
   "outputs": [],
   "source": [
    "## Modelos"
   ]
  },
  {
   "cell_type": "code",
   "execution_count": null,
   "metadata": {},
   "outputs": [],
   "source": [
    "from sklearn.metrics import precision_score, recall_score, f1_score, accuracy_score\n",
    "from sklearn.metrics import confusion_matrix, ConfusionMatrixDisplay\n",
    "from sklearn.neighbors import KNeighborsTransformer, KNeighborsClassifier\n",
    "from sklearn.tree import DecisionTreeClassifier\n",
    "from sklearn.ensemble import RandomForestClassifier\n",
    "from sklearn.svm import SVC\n",
    "from sklearn.linear_model import LogisticRegression\n",
    "from xgboost import XGBClassifier"
   ]
  },
  {
   "cell_type": "code",
   "execution_count": null,
   "metadata": {
    "scrolled": false
   },
   "outputs": [],
   "source": [
    "models = [ KNeighborsClassifier(n_neighbors=5),           \n",
    "         DecisionTreeClassifier(criterion='gini', max_depth=8),\n",
    "         RandomForestClassifier(n_estimators=10, criterion='entropy'),\n",
    "         LogisticRegression(penalty='l1', C=1, solver='liblinear'),\n",
    "         XGBClassifier(booster= \"gbtree\", verbosity= 0, eval_metric='mlogloss')\n",
    "         ] \n",
    "\n",
    "for model in models:    \n",
    "    print('\\r')\n",
    "    print(type(model).__name__)\n",
    "    print(model.get_params())"
   ]
  },
  {
   "cell_type": "markdown",
   "metadata": {},
   "source": [
    "# Hiperparámetros\n",
    "Se realiza la búsqueda de hiperparámetros a través de GridSearch considerando KFold para crossvalidate."
   ]
  },
  {
   "cell_type": "code",
   "execution_count": null,
   "metadata": {},
   "outputs": [],
   "source": [
    "from sklearn.model_selection import KFold\n",
    "\n",
    "# Se agregan los folds con un un hiperpárametro cv (cross validate) dentro del GridSearch\n",
    "folds = KFold(n_splits=4, shuffle=True, random_state=21)"
   ]
  },
  {
   "cell_type": "code",
   "execution_count": null,
   "metadata": {},
   "outputs": [],
   "source": [
    "grid_params=[{'n_neighbors': [1,2,3,5,8,15],'weights':['uniform', 'distance'], 'metric':['euclidean', 'manhattan']},\n",
    "                 {'criterion': ['gini', 'entropy'], 'max_depth': [1, 2, 5, 7, 10, 13]},\n",
    "                 {'criterion': ['gini', 'entropy'], 'max_depth': [8, 9, 12, 13]},\n",
    "                 {'C':[1, 10], 'penalty':['l1', 'l2']},\n",
    "                 {\"booster\": [\"gbtree\", \"gblinear\", \"dart\"], \"verbosity\": [0]}\n",
    "                ]"
   ]
  },
  {
   "cell_type": "code",
   "execution_count": null,
   "metadata": {
    "scrolled": false
   },
   "outputs": [],
   "source": [
    "from sklearn.model_selection import GridSearchCV\n",
    "from sklearn.metrics import classification_report\n",
    "import warnings\n",
    "warnings.filterwarnings('ignore')\n",
    "\n",
    "plot_scores = False\n",
    "\n",
    "best_params = []\n",
    "\n",
    "# Criterio: maximizar el f1 que es el que hace un equilibrio entre presición y recall\n",
    "scores = ['f1']\n",
    "\n",
    "for qq in range(len(labels)):\n",
    "    print('----------> ',labels[qq], ' <----------')\n",
    "    for kk in range(len(models)):\n",
    "        for score in scores:\n",
    "            print('Classifier: ', models[kk])\n",
    "            print('Parameters: ', grid_params[kk])\n",
    "\n",
    "            grid = GridSearchCV(models[kk],\n",
    "                                param_grid=grid_params[kk],\n",
    "                                cv=folds,\n",
    "                                scoring=score)\n",
    "\n",
    "            grid.fit(X[qq], y[qq])\n",
    "            print(\"Best parameters set found on development set: \", grid.best_params_)\n",
    "            best_params.append(grid.best_params_)\n",
    "            print()\n",
    "\n",
    "            if plot_scores:\n",
    "                print(\"Grid scores on development set:\")\n",
    "                print()\n",
    "                means = grid.cv_results_['mean_test_score']\n",
    "                stds = grid.cv_results_['std_test_score']\n",
    "                for mean, std, params in zip(means, stds, grid.cv_results_['params']):\n",
    "                    print(\"%0.3f (+/-%0.03f) for %r\"\n",
    "                          % (mean, std * 2, params))\n",
    "                print()\n",
    "\n",
    "                print(\"Detailed classification report:\")\n",
    "                print()\n",
    "                print(\"The model is trained on the full development set.\")\n",
    "                print(\"The scores are computed on the full evaluation set.\")\n",
    "                print()\n",
    "                y_true, y_pred = y_test, grid.predict(X_test)\n",
    "                print(classification_report(y_true, y_pred))\n",
    "                print()"
   ]
  },
  {
   "cell_type": "markdown",
   "metadata": {},
   "source": [
    "Se muestran la lista de los mejores hiperparámetros para el dataset balanceado (undersampled SMOTE)"
   ]
  },
  {
   "cell_type": "code",
   "execution_count": null,
   "metadata": {},
   "outputs": [],
   "source": [
    "best_params = best_params[-len(models):]\n",
    "best_params"
   ]
  },
  {
   "cell_type": "markdown",
   "metadata": {},
   "source": [
    "## Clasificación"
   ]
  },
  {
   "cell_type": "code",
   "execution_count": null,
   "metadata": {},
   "outputs": [],
   "source": [
    "from sklearn.pipeline import make_pipeline"
   ]
  },
  {
   "cell_type": "markdown",
   "metadata": {},
   "source": [
    "Se evaluán 4 modelos de clasificación (podrían ser más) con sus respectivas métricas con el dataset:\n",
    "- desbalanceado, \n",
    "- submuestreado (undersampling), \n",
    "- sobremuestreado (oversampling) y \n",
    "- sobremuestreado SMOTE (oversampling SMOTE)\n",
    "\n",
    "Importante, un recall bajo implica que no estoy pudiendo identificar quienes van a dejar la tarjeta. Es decir, de todos los que dije que iban a abandonar la tarjeta, cuantos se están yendo. <br>\n",
    "Generalmente, depende mucho del problema, pero entre 66% y 70% de recall y precisión está bien."
   ]
  },
  {
   "cell_type": "code",
   "execution_count": null,
   "metadata": {
    "scrolled": false
   },
   "outputs": [],
   "source": [
    "import warnings\n",
    "warnings.filterwarnings('ignore')\n",
    "\n",
    "from yellowbrick.features import FeatureImportances\n",
    "from yellowbrick.classifier import ConfusionMatrix, ClassificationReport, ROCAUC\n",
    "\n",
    "\n",
    "classes = ['Attrited Customer', 'Existing Customer']\n",
    "plt_confusion_matrix = False\n",
    "\n",
    "# Se analizan los datasets desbalanceados, submuestreados, sobremuestrados y sobremuestreado SMOTE.\n",
    "# Los modelos se parametrizan según lo obtenido con GridSearch.\n",
    "\n",
    "# Loop sobre etiquetas: 'Imbalance dataset', 'Undersampled dataset', 'Oversampled dataset', 'Oversampled dataset (SMOTE)'\n",
    "for k in range(len(labels)):    \n",
    "    # Loop sobre los modelos\n",
    "    for mid in range(len(models)): \n",
    "        # Parametrización del modelo según GridSearch\n",
    "        model = models[mid]\n",
    "        model.set_params(**best_params[mid])\n",
    "        print(labels[k], ' ------> ', model) \n",
    "        \n",
    "        # Pipeline        \n",
    "        training_pipeline = make_pipeline(model)\n",
    "        # Entrenamiento\n",
    "        training_pipeline.fit(X[k], y[k])\n",
    "        # Predicción\n",
    "        y_pred = training_pipeline.predict(X_test)                        \n",
    "\n",
    "        # Visualización con yellowbrick\n",
    "        fig, axes = plt.subplots(nrows=1, ncols=3, figsize=(20,6))\n",
    "        \n",
    "        # Visualizaciones a mostrar\n",
    "        visualgrid =[\n",
    "                    ConfusionMatrix(model, ax=axes[0], classes=classes),\n",
    "                    ClassificationReport(model, ax=axes[1], classes=classes),\n",
    "                    ROCAUC(model, ax=axes[2], classes=classes),\n",
    "                    ]\n",
    "\n",
    "        for viz in visualgrid:\n",
    "            viz.fit(X[k], y[k])\n",
    "            viz.score(X_test, y_test)\n",
    "            viz.finalize()\n",
    "            \n",
    "        plt.suptitle(labels[k] + ': ' +  type(model).__name__ , fontsize=16)\n",
    "        plt.subplots_adjust(top=0.8)\n",
    "        plt.show()   "
   ]
  },
  {
   "cell_type": "markdown",
   "metadata": {},
   "source": [
    "* Los árboles tienen buen desempeño incluso con clases desbalanceadas.\n",
    "* La curva ROC-AUC, mide qué tan bien un modelo es capaz de diferencia diferentes clases.\n",
    "* La diagonal punteada muestra el clasificador aleatorio (tirar la moneda).\n",
    "* Los distintos puntos de la curva, son distintos umbrales de clasificación.\n"
   ]
  },
  {
   "cell_type": "code",
   "execution_count": null,
   "metadata": {},
   "outputs": [],
   "source": [
    "def plot_roc_curve(fpr, tpr, title_str):\n",
    "    plt.figure(figsize=(12,7))    \n",
    "    plt.plot([0, 1], [0, 1], color='red', linestyle='--')\n",
    "    for i in range(0, len(fpr)):\n",
    "        plt.plot(fpr[i], tpr[i], label=str(models[i]))\n",
    "        \n",
    "    plt.xlabel('False Positive Rate')\n",
    "    plt.ylabel('True Positive Rate')\n",
    "    plt.title(title_str)   \n",
    "    plt.legend()   \n",
    "    plt.grid(which='both')"
   ]
  },
  {
   "cell_type": "code",
   "execution_count": null,
   "metadata": {},
   "outputs": [],
   "source": [
    "from sklearn.metrics import roc_curve, roc_auc_score"
   ]
  },
  {
   "cell_type": "code",
   "execution_count": null,
   "metadata": {},
   "outputs": [],
   "source": [
    "fpr_list = []\n",
    "tpr_list = []\n",
    "\n",
    "for i in range(0, len(models)):\n",
    "    model=models[i]\n",
    "    print(model)\n",
    "    pipe_model = make_pipeline(model)\n",
    "    model.fit(X_train_smote, y_train_smote)\n",
    "    # Para SVM hay que pasarle como hiperparámetros probabilities=True\n",
    "    y_pred = model.predict_proba(X_test)\n",
    "    y_pred = y_pred[:,1]\n",
    "    fpr, tpr, threshold = roc_curve(y_test, y_pred)\n",
    "    fpr_list.append(fpr)\n",
    "    tpr_list.append(tpr)\n",
    "    print('Area Under Curve (AUC): ', roc_auc_score(y_test, y_pred))\n",
    "    print()"
   ]
  },
  {
   "cell_type": "code",
   "execution_count": null,
   "metadata": {},
   "outputs": [],
   "source": [
    "plot_roc_curve(fpr_list, tpr_list, title_str='ROC Curve --> SMOTE')"
   ]
  },
  {
   "cell_type": "markdown",
   "metadata": {},
   "source": [
    "# Explicabilidad"
   ]
  },
  {
   "cell_type": "markdown",
   "metadata": {},
   "source": [
    "## Explicación general\n",
    "La idea es tener la capacidad de explicar las prediccciones de los resultados de un modelo desde el punto de vista técnico. <br>\n",
    "SHAP: Shapley additive explanation. Viene de la teoría de juego. <br>"
   ]
  },
  {
   "cell_type": "code",
   "execution_count": null,
   "metadata": {},
   "outputs": [],
   "source": [
    "import shap"
   ]
  },
  {
   "cell_type": "markdown",
   "metadata": {},
   "source": [
    "lo que necesita recibir la librería shap es el modelo."
   ]
  },
  {
   "cell_type": "code",
   "execution_count": null,
   "metadata": {},
   "outputs": [],
   "source": [
    "model_to_explain = training_pipeline\n",
    "print(model_to_explain)"
   ]
  },
  {
   "cell_type": "markdown",
   "metadata": {},
   "source": [
    "Se crea un explainer para explicar como el modelo calcula las probabilidades de pertenecer o no a alguna de las clases."
   ]
  },
  {
   "cell_type": "code",
   "execution_count": null,
   "metadata": {},
   "outputs": [],
   "source": [
    "explainer = shap.KernelExplainer(model_to_explain.predict, X_test)"
   ]
  },
  {
   "cell_type": "markdown",
   "metadata": {},
   "source": [
    "Se calculan los shap_values que representan las importancia de cada uno de los atributos para predecir los resultados. <br>\n",
    "Por cuestiones de memoria, sólo evalúo los primeros N."
   ]
  },
  {
   "cell_type": "code",
   "execution_count": null,
   "metadata": {},
   "outputs": [],
   "source": [
    "N = 3\n",
    "shap_values = explainer.shap_values(X_test.iloc[:N,: ])"
   ]
  },
  {
   "cell_type": "markdown",
   "metadata": {},
   "source": [
    "Un vez calculados los shap values, los graficamos."
   ]
  },
  {
   "cell_type": "code",
   "execution_count": null,
   "metadata": {},
   "outputs": [],
   "source": [
    "shap.summary_plot(shap_values,\n",
    "                  X_test.iloc[:N,: ])"
   ]
  },
  {
   "cell_type": "markdown",
   "metadata": {},
   "source": [
    "Sobre la izquierda tenemos las variables que usamos para la estimación. Arriba se encuentran las más relevantes, abajo las menos.\n",
    "Si los shap_values están alrededor de cero, no aportan a la predicción de clases; es decir, no son relevantes/importantes para tomar la decisión de si van (o no) a dejar la tarjeta. <br>\n",
    "Cada punto representa la cantidad de observaciones y el color representa la relevancia. <br>\n",
    "Notar que:\n",
    "- Para altas cantidad de transacciones (Total_trans_Ct), los valores negativos de shap values nos dicen de que es poco probable que el cliente deje la tarjeta.\n",
    "- Para bajas cantidades de transacciones (Total_trans_Ct), los valores positivos de shap values nos dicen de que es más probable que el cliente deje la tarjeta."
   ]
  },
  {
   "cell_type": "markdown",
   "metadata": {},
   "source": [
    "## Explicación particular (no va a hacer churn)\n",
    "A continuación se analiza un caso particular, una observación puntual del dataset de testing y evaluamos como está clasificado el modelo. <br>\n",
    "Tomamos la primer fila del dataset de test."
   ]
  },
  {
   "cell_type": "code",
   "execution_count": null,
   "metadata": {},
   "outputs": [],
   "source": [
    "X_test.iloc[1,:]"
   ]
  },
  {
   "cell_type": "code",
   "execution_count": null,
   "metadata": {},
   "outputs": [],
   "source": [
    "pd.DataFrame(y_test).iloc[1,:]"
   ]
  },
  {
   "cell_type": "markdown",
   "metadata": {},
   "source": [
    "Vemos que se está clasificando como 0 (es decir, no va a hacer churn)"
   ]
  },
  {
   "cell_type": "code",
   "execution_count": null,
   "metadata": {},
   "outputs": [],
   "source": [
    "shap.initjs()\n",
    "shap.force_plot(explainer.expected_value, shap_values[1], X_test.iloc[1,:])"
   ]
  },
  {
   "cell_type": "markdown",
   "metadata": {},
   "source": [
    "## Explicación particular (si va a hacer churn)\n"
   ]
  },
  {
   "cell_type": "code",
   "execution_count": null,
   "metadata": {},
   "outputs": [],
   "source": [
    "\n",
    "pd.DataFrame(y_test).iloc[6,:]\n"
   ]
  },
  {
   "cell_type": "code",
   "execution_count": null,
   "metadata": {},
   "outputs": [],
   "source": [
    "shap.initjs()\n",
    "shap.force_plot(explainer.expected_value, shap_values[2], X_test.iloc[6,:])"
   ]
  },
  {
   "cell_type": "markdown",
   "metadata": {},
   "source": [
    "# Conclusión"
   ]
  },
  {
   "cell_type": "code",
   "execution_count": null,
   "metadata": {},
   "outputs": [],
   "source": [
    "len(models)"
   ]
  },
  {
   "cell_type": "code",
   "execution_count": null,
   "metadata": {},
   "outputs": [],
   "source": [
    "results_list = []\n",
    "\n",
    "fig, axes = plt.subplots(nrows=1, ncols=5, figsize=(20,6))\n",
    "# Loop sobre los modelos\n",
    "for mid in range(len(models)): \n",
    "    # Parametrización del modelo según GridSearch\n",
    "    model = models[mid]\n",
    "    model.set_params(**best_params[mid])\n",
    "    visualgrid = ClassificationReport(model, ax=axes[mid], classes=classes)\n",
    "\n",
    "    visualgrid.fit(X_train_smote, y_train_smote)\n",
    "    visualgrid.score(X_test, y_test)\n",
    "    visualgrid.finalize()\n",
    "\n",
    "    results_list.append(visualgrid.scores_)\n",
    "fig.tight_layout()    \n"
   ]
  },
  {
   "cell_type": "code",
   "execution_count": null,
   "metadata": {},
   "outputs": [],
   "source": [
    "results_attrited = np.zeros((len(models), 3))\n",
    "results_existing = np.zeros((len(models), 3))\n",
    "model_name = np.zeros((len(models)), dtype=list)\n",
    "for k in range(len(models)):\n",
    "    model_name[k] = type(models[k]).__name__\n",
    "    results_attrited[k, 0] = results_list[k]['precision']['Attrited Customer']\n",
    "    results_attrited[k, 1] = results_list[k]['recall']['Attrited Customer']\n",
    "    results_attrited[k, 2] = results_list[k]['f1']['Attrited Customer']\n",
    "    \n",
    "    results_existing[k, 0] = results_list[k]['precision']['Existing Customer']\n",
    "    results_existing[k, 1] = results_list[k]['recall']['Existing Customer']\n",
    "    results_existing[k, 2] = results_list[k]['f1']['Existing Customer']    "
   ]
  },
  {
   "cell_type": "markdown",
   "metadata": {},
   "source": [
    "## Conclusiones Attrited"
   ]
  },
  {
   "cell_type": "code",
   "execution_count": null,
   "metadata": {},
   "outputs": [],
   "source": [
    "pd.DataFrame(results_attrited, \n",
    "             columns=['Precision', 'Recall', 'F1-score'],\n",
    "             index=model_name)"
   ]
  },
  {
   "cell_type": "markdown",
   "metadata": {},
   "source": [
    "## Conclusiones Existing"
   ]
  },
  {
   "cell_type": "code",
   "execution_count": null,
   "metadata": {},
   "outputs": [],
   "source": [
    "pd.DataFrame(results_existing, \n",
    "             columns=['Precision', 'Recall', 'F1-score'],\n",
    "             index=model_name)"
   ]
  }
 ],
 "metadata": {
  "kernelspec": {
   "display_name": "Python 3",
   "language": "python",
   "name": "python3"
  },
  "language_info": {
   "codemirror_mode": {
    "name": "ipython",
    "version": 3
   },
   "file_extension": ".py",
   "mimetype": "text/x-python",
   "name": "python",
   "nbconvert_exporter": "python",
   "pygments_lexer": "ipython3",
   "version": "3.8.5"
  },
  "toc": {
   "base_numbering": 1,
   "nav_menu": {},
   "number_sections": true,
   "sideBar": true,
   "skip_h1_title": false,
   "title_cell": "Table of Contents",
   "title_sidebar": "Contents",
   "toc_cell": false,
   "toc_position": {
    "height": "calc(100% - 180px)",
    "left": "10px",
    "top": "150px",
    "width": "381.733px"
   },
   "toc_section_display": true,
   "toc_window_display": true
  },
  "toc-autonumbering": false,
  "toc-showcode": false,
  "toc-showmarkdowntxt": false,
  "varInspector": {
   "cols": {
    "lenName": 16,
    "lenType": 16,
    "lenVar": 40
   },
   "kernels_config": {
    "python": {
     "delete_cmd_postfix": "",
     "delete_cmd_prefix": "del ",
     "library": "var_list.py",
     "varRefreshCmd": "print(var_dic_list())"
    },
    "r": {
     "delete_cmd_postfix": ") ",
     "delete_cmd_prefix": "rm(",
     "library": "var_list.r",
     "varRefreshCmd": "cat(var_dic_list()) "
    }
   },
   "types_to_exclude": [
    "module",
    "function",
    "builtin_function_or_method",
    "instance",
    "_Feature"
   ],
   "window_display": false
  }
 },
 "nbformat": 4,
 "nbformat_minor": 4
}
